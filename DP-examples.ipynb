{
 "cells": [
  {
   "cell_type": "code",
   "execution_count": 136,
   "metadata": {},
   "outputs": [],
   "source": [
    "x=\"DYNAMIC\"; y=\"DRAMATIC\";"
   ]
  },
  {
   "cell_type": "code",
   "execution_count": 124,
   "metadata": {},
   "outputs": [
    {
     "data": {
      "text/plain": [
       "4"
      ]
     },
     "execution_count": 124,
     "metadata": {},
     "output_type": "execute_result"
    }
   ],
   "source": [
    "def E(i,j):\n",
    "    return max(i,j) if i * j == 0 else min( \n",
    "        E(i,j-1)+1, \n",
    "        E(i-1,j)+1, \n",
    "        E(i-1,j-1)+ (0 if x[i-1] == y[j-1] else 1) )\n",
    "E(len(x),len(y))"
   ]
  },
  {
   "cell_type": "code",
   "execution_count": 144,
   "metadata": {},
   "outputs": [
    {
     "name": "stdout",
     "output_type": "stream",
     "text": [
      "4\n",
      "0\t1\t2\t3\t4\t5\t6\t7\t8\n",
      "1\t0\t1\t2\t3\t4\t5\t6\t7\n",
      "2\t1\t1\t2\t3\t4\t5\t6\t7\n",
      "3\t2\t2\t2\t3\t4\t5\t6\t7\n",
      "4\t3\t3\t2\t3\t3\t4\t5\t6\n",
      "5\t4\t4\t3\t2\t3\t4\t5\t6\n",
      "6\t5\t5\t4\t3\t3\t4\t4\t5\n",
      "7\t6\t6\t5\t4\t4\t4\t5\t4\n"
     ]
    }
   ],
   "source": [
    "E=[list(range(0,len(y)+1))]+list(([i] for i in range(1,len(x)+1))) \n",
    "for i in range(1,len(x)+1):\n",
    "    for j in range(1,len(y)+1): \n",
    "        E[i].append(min(E[i][j-1]+1, \n",
    "                        E[i-1][j]+1,\n",
    "                        E[i-1][j-1]+(0 if x[i-1]==y[j-1] else 1)))\n",
    "print(E[len(x)][len(y)])\n",
    "print('\\n'.join('\\t'.join(str(a) for a in r) for r in E))"
   ]
  },
  {
   "cell_type": "code",
   "execution_count": 145,
   "metadata": {},
   "outputs": [
    {
     "name": "stdout",
     "output_type": "stream",
     "text": [
      "4\n",
      "[7, 6, 6, 5, 4, 4, 4, 5, 4]\n"
     ]
    }
   ],
   "source": [
    "pr=range(0,len(y)+1); r=[1]\n",
    "for i in range(1,len(x)+1):\n",
    "    for j in range(1,len(y)+1):\n",
    "        r.append(min(r[j-1]+1,pr[j]+1,pr[j-1]+(0 if x[i-1]==y[j-1] else 1)))\n",
    "    pr=r; r=[i+1];\n",
    "print(pr[len(y)])\n",
    "print(pr)"
   ]
  },
  {
   "cell_type": "code",
   "execution_count": 146,
   "metadata": {},
   "outputs": [
    {
     "name": "stdout",
     "output_type": "stream",
     "text": [
      "4\n",
      "{(0, 0): 0, (1, 0): 1, (2, 0): 2, (3, 0): 3, (4, 0): 4, (5, 0): 5, (6, 0): 6, (7, 0): 7, (0, 1): 1, (0, 2): 2, (0, 3): 3, (0, 4): 4, (0, 5): 5, (0, 6): 6, (0, 7): 7, (0, 8): 8, (1, 1): 0, (2, 1): 1, (3, 1): 2, (4, 1): 3, (5, 1): 4, (6, 1): 5, (7, 1): 6, (1, 2): 1, (2, 2): 1, (3, 2): 2, (4, 2): 3, (5, 2): 4, (6, 2): 5, (7, 2): 6, (1, 3): 2, (2, 3): 2, (3, 3): 2, (4, 3): 2, (5, 3): 3, (6, 3): 4, (7, 3): 5, (1, 4): 3, (2, 4): 3, (3, 4): 3, (4, 4): 3, (5, 4): 2, (6, 4): 3, (7, 4): 4, (1, 5): 4, (2, 5): 4, (3, 5): 4, (4, 5): 3, (5, 5): 3, (6, 5): 3, (7, 5): 4, (1, 6): 5, (2, 6): 5, (3, 6): 5, (4, 6): 4, (5, 6): 4, (6, 6): 4, (7, 6): 4, (1, 7): 6, (2, 7): 6, (3, 7): 6, (4, 7): 5, (5, 7): 5, (6, 7): 4, (7, 7): 5, (1, 8): 7, (2, 8): 7, (3, 8): 7, (4, 8): 6, (5, 8): 6, (6, 8): 5, (7, 8): 4}\n"
     ]
    }
   ],
   "source": [
    "c=dict([((i,0),i) for i in range(0,len(x)+1)]+[((0,j),j) for j in range(0,len(y)+1)])\n",
    "def E(i,j):\n",
    "    if (i,j) not in c:\n",
    "        c[(i,j)]=min(E(i,j-1)+1,E(i-1,j)+1,E(i-1,j-1)+(0 if x[i-1]==y[j-1] else 1))\n",
    "    return c[i,j]\n",
    "print(E(len(x),len(y)))\n",
    "print(c)"
   ]
  },
  {
   "cell_type": "code",
   "execution_count": 147,
   "metadata": {},
   "outputs": [],
   "source": [
    "x=\"ACGGTTGA\"; y=\"AAGTGA\""
   ]
  },
  {
   "cell_type": "code",
   "execution_count": 148,
   "metadata": {},
   "outputs": [
    {
     "name": "stdout",
     "output_type": "stream",
     "text": [
      "[24, 21, 18, 16, 13, 10, 7]\n"
     ]
    }
   ],
   "source": [
    "p={'A':'AG','G':'AG','C':'CT','T':'CT'}; GP=3; V=2; T=1;\n",
    "pr=[x*GP for x in range(0,len(y)+1)]; r=[GP];\n",
    "for i in range(1,len(x)+1):\n",
    "    for j in range(1,len(y)+1):\n",
    "        r.append(min(r[j-1]+GP,\n",
    "                     pr[j]+GP,\n",
    "                     pr[j-1]+(0 if x[i-1]==y[j-1] else \n",
    "                              T if p[x[i-1]]==p[y[j-1]] \n",
    "                              else V)))\n",
    "    pr = r; r = [(i+1)*GP]\n",
    "print(pr)"
   ]
  },
  {
   "cell_type": "code",
   "execution_count": null,
   "metadata": {},
   "outputs": [],
   "source": []
  }
 ],
 "metadata": {
  "kernelspec": {
   "display_name": "Python 3",
   "language": "python",
   "name": "python3"
  },
  "language_info": {
   "codemirror_mode": {
    "name": "ipython",
    "version": 3
   },
   "file_extension": ".py",
   "mimetype": "text/x-python",
   "name": "python",
   "nbconvert_exporter": "python",
   "pygments_lexer": "ipython3",
   "version": "3.7.1"
  }
 },
 "nbformat": 4,
 "nbformat_minor": 2
}
